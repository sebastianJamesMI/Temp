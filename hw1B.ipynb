{
  "nbformat": 4,
  "nbformat_minor": 0,
  "metadata": {
    "colab": {
      "name": "hw1.ipynb",
      "provenance": [],
      "collapsed_sections": [],
      "include_colab_link": true
    },
    "kernelspec": {
      "name": "python3",
      "display_name": "Python 3"
    },
    "language_info": {
      "name": "python"
    }
  },
  "cells": [
    {
      "cell_type": "markdown",
      "metadata": {
        "id": "view-in-github",
        "colab_type": "text"
      },
      "source": [
        "<a href=\"https://colab.research.google.com/github/sebastianJamesMI/Temp/blob/master/hw1B.ipynb\" target=\"_parent\"><img src=\"https://colab.research.google.com/assets/colab-badge.svg\" alt=\"Open In Colab\"/></a>"
      ]
    },
    {
      "cell_type": "code",
      "metadata": {
        "id": "vvMJ3Y4BnuIF"
      },
      "source": [
        "1. How do you start emacs from the command line?\n",
        "\n",
        "\n",
        "2. How do you open a file?\n",
        "C-x C-f The type in the path and name of the file\n",
        "\n",
        "3. How do you edit it?\n",
        "\n",
        "Simply start typing in it\n",
        "\n",
        "4. How do you save it?\n",
        "\n",
        "C-x C-s\n",
        "\n",
        "5. How do you get help without googling?\n",
        "\n",
        "C-h c <command name> for example C-h c C-p gets the help informaiton for the command C-p\n",
        "\n",
        "6. How do you get out of trouble?\n",
        "\n",
        "C-g [stop a command that may be taking too long]\n",
        "\n",
        "7.  How do you split the window in half horizontally?\n",
        "\n",
        "\n",
        "8.  How do you split the window in half vertically?\n",
        "\n",
        "\n",
        "9.  How long can you repeat the operations in questions 7 and 8?\n",
        "\n",
        "\n",
        "\n",
        "10.  What is a buffer?\n",
        "\n",
        "\n",
        "\n",
        "11.  How do you get a list of all the buffers running in your emacs\n",
        "     process?\n",
        "\n",
        "\n",
        "\n",
        "12.  How do you jump to the top of the file without scrolling?\n",
        "\n",
        "M-<\n",
        "\n",
        "13.  How do you jump to the bottom of the file without scrolling?\n",
        "\n",
        "M->\n",
        "\n",
        "14.  How do you move down a page without scrolling?\n",
        "C-f\n",
        "\n",
        "15.  How do you move up a page without scrolling?\n",
        "\n",
        "C-b\n",
        "\n",
        "16.  How do you move to the end of a line?\n",
        "\n",
        "C-e\n",
        "\n",
        "17.  How do you move to the beginning of a line?\n",
        "\n",
        "C-a\n",
        "\n",
        "18.  What is the point?\n",
        "\n",
        "19.  What is the mark?\n",
        "\n",
        "20.  Why are these useful?\n",
        "\n",
        "21. How do you exit emacs?\n",
        "C-x C-c"
      ],
      "execution_count": null,
      "outputs": []
    },
    {
      "cell_type": "code",
      "metadata": {
        "colab": {
          "base_uri": "https://localhost:8080/"
        },
        "id": "abc7O7_gI5FJ",
        "outputId": "d13eb130-1a5a-4825-f945-2d14d5df7a22"
      },
      "source": [
        "import nltk\n",
        "nltk.download('brown')"
      ],
      "execution_count": 1,
      "outputs": [
        {
          "output_type": "stream",
          "name": "stdout",
          "text": [
            "[nltk_data] Downloading package brown to /root/nltk_data...\n",
            "[nltk_data]   Unzipping corpora/brown.zip.\n"
          ]
        },
        {
          "output_type": "execute_result",
          "data": {
            "text/plain": [
              "True"
            ]
          },
          "metadata": {},
          "execution_count": 1
        }
      ]
    },
    {
      "cell_type": "code",
      "metadata": {
        "colab": {
          "base_uri": "https://localhost:8080/"
        },
        "id": "W6WP4mYIMmCY",
        "outputId": "e2f5713c-ebde-470e-a9cb-76941c684d32"
      },
      "source": [
        "!unzip /root/nltk_data/corpora/brown.zip "
      ],
      "execution_count": null,
      "outputs": [
        {
          "output_type": "stream",
          "name": "stdout",
          "text": [
            "Archive:  /root/nltk_data/corpora/brown.zip\n",
            "   creating: brown/\n",
            "  inflating: brown/ca01              \n",
            "  inflating: brown/ca02              \n",
            "  inflating: brown/ca03              \n",
            "  inflating: brown/ca04              \n",
            "  inflating: brown/ca05              \n",
            "  inflating: brown/ca06              \n",
            "  inflating: brown/ca07              \n",
            "  inflating: brown/ca08              \n",
            "  inflating: brown/ca09              \n",
            "  inflating: brown/ca10              \n",
            "  inflating: brown/ca11              \n",
            "  inflating: brown/ca12              \n",
            "  inflating: brown/ca13              \n",
            "  inflating: brown/ca14              \n",
            "  inflating: brown/ca15              \n",
            "  inflating: brown/ca16              \n",
            "  inflating: brown/ca17              \n",
            "  inflating: brown/ca18              \n",
            "  inflating: brown/ca19              \n",
            "  inflating: brown/ca20              \n",
            "  inflating: brown/ca21              \n",
            "  inflating: brown/ca22              \n",
            "  inflating: brown/ca23              \n",
            "  inflating: brown/ca24              \n",
            "  inflating: brown/ca25              \n",
            "  inflating: brown/ca26              \n",
            "  inflating: brown/ca27              \n",
            "  inflating: brown/ca28              \n",
            "  inflating: brown/ca29              \n",
            "  inflating: brown/ca30              \n",
            "  inflating: brown/ca31              \n",
            "  inflating: brown/ca32              \n",
            "  inflating: brown/ca33              \n",
            "  inflating: brown/ca34              \n",
            "  inflating: brown/ca35              \n",
            "  inflating: brown/ca36              \n",
            "  inflating: brown/ca37              \n",
            "  inflating: brown/ca38              \n",
            "  inflating: brown/ca39              \n",
            "  inflating: brown/ca40              \n",
            "  inflating: brown/ca41              \n",
            "  inflating: brown/ca42              \n",
            "  inflating: brown/ca43              \n",
            "  inflating: brown/ca44              \n",
            "  inflating: brown/cats.txt          \n",
            "  inflating: brown/cb01              \n",
            "  inflating: brown/cb02              \n",
            "  inflating: brown/cb03              \n",
            "  inflating: brown/cb04              \n",
            "  inflating: brown/cb05              \n",
            "  inflating: brown/cb06              \n",
            "  inflating: brown/cb07              \n",
            "  inflating: brown/cb08              \n",
            "  inflating: brown/cb09              \n",
            "  inflating: brown/cb10              \n",
            "  inflating: brown/cb11              \n",
            "  inflating: brown/cb12              \n",
            "  inflating: brown/cb13              \n",
            "  inflating: brown/cb14              \n",
            "  inflating: brown/cb15              \n",
            "  inflating: brown/cb16              \n",
            "  inflating: brown/cb17              \n",
            "  inflating: brown/cb18              \n",
            "  inflating: brown/cb19              \n",
            "  inflating: brown/cb20              \n",
            "  inflating: brown/cb21              \n",
            "  inflating: brown/cb22              \n",
            "  inflating: brown/cb23              \n",
            "  inflating: brown/cb24              \n",
            "  inflating: brown/cb25              \n",
            "  inflating: brown/cb26              \n",
            "  inflating: brown/cb27              \n",
            "  inflating: brown/cc01              \n",
            "  inflating: brown/cc02              \n",
            "  inflating: brown/cc03              \n",
            "  inflating: brown/cc04              \n",
            "  inflating: brown/cc05              \n",
            "  inflating: brown/cc06              \n",
            "  inflating: brown/cc07              \n",
            "  inflating: brown/cc08              \n",
            "  inflating: brown/cc09              \n",
            "  inflating: brown/cc10              \n",
            "  inflating: brown/cc11              \n",
            "  inflating: brown/cc12              \n",
            "  inflating: brown/cc13              \n",
            "  inflating: brown/cc14              \n",
            "  inflating: brown/cc15              \n",
            "  inflating: brown/cc16              \n",
            "  inflating: brown/cc17              \n",
            "  inflating: brown/cd01              \n",
            "  inflating: brown/cd02              \n",
            "  inflating: brown/cd03              \n",
            "  inflating: brown/cd04              \n",
            "  inflating: brown/cd05              \n",
            "  inflating: brown/cd06              \n",
            "  inflating: brown/cd07              \n",
            "  inflating: brown/cd08              \n",
            "  inflating: brown/cd09              \n",
            "  inflating: brown/cd10              \n",
            "  inflating: brown/cd11              \n",
            "  inflating: brown/cd12              \n",
            "  inflating: brown/cd13              \n",
            "  inflating: brown/cd14              \n",
            "  inflating: brown/cd15              \n",
            "  inflating: brown/cd16              \n",
            "  inflating: brown/cd17              \n",
            "  inflating: brown/ce01              \n",
            "  inflating: brown/ce02              \n",
            "  inflating: brown/ce03              \n",
            "  inflating: brown/ce04              \n",
            "  inflating: brown/ce05              \n",
            "  inflating: brown/ce06              \n",
            "  inflating: brown/ce07              \n",
            "  inflating: brown/ce08              \n",
            "  inflating: brown/ce09              \n",
            "  inflating: brown/ce10              \n",
            "  inflating: brown/ce11              \n",
            "  inflating: brown/ce12              \n",
            "  inflating: brown/ce13              \n",
            "  inflating: brown/ce14              \n",
            "  inflating: brown/ce15              \n",
            "  inflating: brown/ce16              \n",
            "  inflating: brown/ce17              \n",
            "  inflating: brown/ce18              \n",
            "  inflating: brown/ce19              \n",
            "  inflating: brown/ce20              \n",
            "  inflating: brown/ce21              \n",
            "  inflating: brown/ce22              \n",
            "  inflating: brown/ce23              \n",
            "  inflating: brown/ce24              \n",
            "  inflating: brown/ce25              \n",
            "  inflating: brown/ce26              \n",
            "  inflating: brown/ce27              \n",
            "  inflating: brown/ce28              \n",
            "  inflating: brown/ce29              \n",
            "  inflating: brown/ce30              \n",
            "  inflating: brown/ce31              \n",
            "  inflating: brown/ce32              \n",
            "  inflating: brown/ce33              \n",
            "  inflating: brown/ce34              \n",
            "  inflating: brown/ce35              \n",
            "  inflating: brown/ce36              \n",
            "  inflating: brown/cf01              \n",
            "  inflating: brown/cf02              \n",
            "  inflating: brown/cf03              \n",
            "  inflating: brown/cf04              \n",
            "  inflating: brown/cf05              \n",
            "  inflating: brown/cf06              \n",
            "  inflating: brown/cf07              \n",
            "  inflating: brown/cf08              \n",
            "  inflating: brown/cf09              \n",
            "  inflating: brown/cf10              \n",
            "  inflating: brown/cf11              \n",
            "  inflating: brown/cf12              \n",
            "  inflating: brown/cf13              \n",
            "  inflating: brown/cf14              \n",
            "  inflating: brown/cf15              \n",
            "  inflating: brown/cf16              \n",
            "  inflating: brown/cf17              \n",
            "  inflating: brown/cf18              \n",
            "  inflating: brown/cf19              \n",
            "  inflating: brown/cf20              \n",
            "  inflating: brown/cf21              \n",
            "  inflating: brown/cf22              \n",
            "  inflating: brown/cf23              \n",
            "  inflating: brown/cf24              \n",
            "  inflating: brown/cf25              \n",
            "  inflating: brown/cf26              \n",
            "  inflating: brown/cf27              \n",
            "  inflating: brown/cf28              \n",
            "  inflating: brown/cf29              \n",
            "  inflating: brown/cf30              \n",
            "  inflating: brown/cf31              \n",
            "  inflating: brown/cf32              \n",
            "  inflating: brown/cf33              \n",
            "  inflating: brown/cf34              \n",
            "  inflating: brown/cf35              \n",
            "  inflating: brown/cf36              \n",
            "  inflating: brown/cf37              \n",
            "  inflating: brown/cf38              \n",
            "  inflating: brown/cf39              \n",
            "  inflating: brown/cf40              \n",
            "  inflating: brown/cf41              \n",
            "  inflating: brown/cf42              \n",
            "  inflating: brown/cf43              \n",
            "  inflating: brown/cf44              \n",
            "  inflating: brown/cf45              \n",
            "  inflating: brown/cf46              \n",
            "  inflating: brown/cf47              \n",
            "  inflating: brown/cf48              \n",
            "  inflating: brown/cg01              \n",
            "  inflating: brown/cg02              \n",
            "  inflating: brown/cg03              \n",
            "  inflating: brown/cg04              \n",
            "  inflating: brown/cg05              \n",
            "  inflating: brown/cg06              \n",
            "  inflating: brown/cg07              \n",
            "  inflating: brown/cg08              \n",
            "  inflating: brown/cg09              \n",
            "  inflating: brown/cg10              \n",
            "  inflating: brown/cg11              \n",
            "  inflating: brown/cg12              \n",
            "  inflating: brown/cg13              \n",
            "  inflating: brown/cg14              \n",
            "  inflating: brown/cg15              \n",
            "  inflating: brown/cg16              \n",
            "  inflating: brown/cg17              \n",
            "  inflating: brown/cg18              \n",
            "  inflating: brown/cg19              \n",
            "  inflating: brown/cg20              \n",
            "  inflating: brown/cg21              \n",
            "  inflating: brown/cg22              \n",
            "  inflating: brown/cg23              \n",
            "  inflating: brown/cg24              \n",
            "  inflating: brown/cg25              \n",
            "  inflating: brown/cg26              \n",
            "  inflating: brown/cg27              \n",
            "  inflating: brown/cg28              \n",
            "  inflating: brown/cg29              \n",
            "  inflating: brown/cg30              \n",
            "  inflating: brown/cg31              \n",
            "  inflating: brown/cg32              \n",
            "  inflating: brown/cg33              \n",
            "  inflating: brown/cg34              \n",
            "  inflating: brown/cg35              \n",
            "  inflating: brown/cg36              \n",
            "  inflating: brown/cg37              \n",
            "  inflating: brown/cg38              \n",
            "  inflating: brown/cg39              \n",
            "  inflating: brown/cg40              \n",
            "  inflating: brown/cg41              \n",
            "  inflating: brown/cg42              \n",
            "  inflating: brown/cg43              \n",
            "  inflating: brown/cg44              \n",
            "  inflating: brown/cg45              \n",
            "  inflating: brown/cg46              \n",
            "  inflating: brown/cg47              \n",
            "  inflating: brown/cg48              \n",
            "  inflating: brown/cg49              \n",
            "  inflating: brown/cg50              \n",
            "  inflating: brown/cg51              \n",
            "  inflating: brown/cg52              \n",
            "  inflating: brown/cg53              \n",
            "  inflating: brown/cg54              \n",
            "  inflating: brown/cg55              \n",
            "  inflating: brown/cg56              \n",
            "  inflating: brown/cg57              \n",
            "  inflating: brown/cg58              \n",
            "  inflating: brown/cg59              \n",
            "  inflating: brown/cg60              \n",
            "  inflating: brown/cg61              \n",
            "  inflating: brown/cg62              \n",
            "  inflating: brown/cg63              \n",
            "  inflating: brown/cg64              \n",
            "  inflating: brown/cg65              \n",
            "  inflating: brown/cg66              \n",
            "  inflating: brown/cg67              \n",
            "  inflating: brown/cg68              \n",
            "  inflating: brown/cg69              \n",
            "  inflating: brown/cg70              \n",
            "  inflating: brown/cg71              \n",
            "  inflating: brown/cg72              \n",
            "  inflating: brown/cg73              \n",
            "  inflating: brown/cg74              \n",
            "  inflating: brown/cg75              \n",
            "  inflating: brown/ch01              \n",
            "  inflating: brown/ch02              \n",
            "  inflating: brown/ch03              \n",
            "  inflating: brown/ch04              \n",
            "  inflating: brown/ch05              \n",
            "  inflating: brown/ch06              \n",
            "  inflating: brown/ch07              \n",
            "  inflating: brown/ch08              \n",
            "  inflating: brown/ch09              \n",
            "  inflating: brown/ch10              \n",
            "  inflating: brown/ch11              \n",
            "  inflating: brown/ch12              \n",
            "  inflating: brown/ch13              \n",
            "  inflating: brown/ch14              \n",
            "  inflating: brown/ch15              \n",
            "  inflating: brown/ch16              \n",
            "  inflating: brown/ch17              \n",
            "  inflating: brown/ch18              \n",
            "  inflating: brown/ch19              \n",
            "  inflating: brown/ch20              \n",
            "  inflating: brown/ch21              \n",
            "  inflating: brown/ch22              \n",
            "  inflating: brown/ch23              \n",
            "  inflating: brown/ch24              \n",
            "  inflating: brown/ch25              \n",
            "  inflating: brown/ch26              \n",
            "  inflating: brown/ch27              \n",
            "  inflating: brown/ch28              \n",
            "  inflating: brown/ch29              \n",
            "  inflating: brown/ch30              \n",
            "  inflating: brown/cj01              \n",
            "  inflating: brown/cj02              \n",
            "  inflating: brown/cj03              \n",
            "  inflating: brown/cj04              \n",
            "  inflating: brown/cj05              \n",
            "  inflating: brown/cj06              \n",
            "  inflating: brown/cj07              \n",
            "  inflating: brown/cj08              \n",
            "  inflating: brown/cj09              \n",
            "  inflating: brown/cj10              \n",
            "  inflating: brown/cj11              \n",
            "  inflating: brown/cj12              \n",
            "  inflating: brown/cj13              \n",
            "  inflating: brown/cj14              \n",
            "  inflating: brown/cj15              \n",
            "  inflating: brown/cj16              \n",
            "  inflating: brown/cj17              \n",
            "  inflating: brown/cj18              \n",
            "  inflating: brown/cj19              \n",
            "  inflating: brown/cj20              \n",
            "  inflating: brown/cj21              \n",
            "  inflating: brown/cj22              \n",
            "  inflating: brown/cj23              \n",
            "  inflating: brown/cj24              \n",
            "  inflating: brown/cj25              \n",
            "  inflating: brown/cj26              \n",
            "  inflating: brown/cj27              \n",
            "  inflating: brown/cj28              \n",
            "  inflating: brown/cj29              \n",
            "  inflating: brown/cj30              \n",
            "  inflating: brown/cj31              \n",
            "  inflating: brown/cj32              \n",
            "  inflating: brown/cj33              \n",
            "  inflating: brown/cj34              \n",
            "  inflating: brown/cj35              \n",
            "  inflating: brown/cj36              \n",
            "  inflating: brown/cj37              \n",
            "  inflating: brown/cj38              \n",
            "  inflating: brown/cj39              \n",
            "  inflating: brown/cj40              \n",
            "  inflating: brown/cj41              \n",
            "  inflating: brown/cj42              \n",
            "  inflating: brown/cj43              \n",
            "  inflating: brown/cj44              \n",
            "  inflating: brown/cj45              \n",
            "  inflating: brown/cj46              \n",
            "  inflating: brown/cj47              \n",
            "  inflating: brown/cj48              \n",
            "  inflating: brown/cj49              \n",
            "  inflating: brown/cj50              \n",
            "  inflating: brown/cj51              \n",
            "  inflating: brown/cj52              \n",
            "  inflating: brown/cj53              \n",
            "  inflating: brown/cj54              \n",
            "  inflating: brown/cj55              \n",
            "  inflating: brown/cj56              \n",
            "  inflating: brown/cj57              \n",
            "  inflating: brown/cj58              \n",
            "  inflating: brown/cj59              \n",
            "  inflating: brown/cj60              \n",
            "  inflating: brown/cj61              \n",
            "  inflating: brown/cj62              \n",
            "  inflating: brown/cj63              \n",
            "  inflating: brown/cj64              \n",
            "  inflating: brown/cj65              \n",
            "  inflating: brown/cj66              \n",
            "  inflating: brown/cj67              \n",
            "  inflating: brown/cj68              \n",
            "  inflating: brown/cj69              \n",
            "  inflating: brown/cj70              \n",
            "  inflating: brown/cj71              \n",
            "  inflating: brown/cj72              \n",
            "  inflating: brown/cj73              \n",
            "  inflating: brown/cj74              \n",
            "  inflating: brown/cj75              \n",
            "  inflating: brown/cj76              \n",
            "  inflating: brown/cj77              \n",
            "  inflating: brown/cj78              \n",
            "  inflating: brown/cj79              \n",
            "  inflating: brown/cj80              \n",
            "  inflating: brown/ck01              \n",
            "  inflating: brown/ck02              \n",
            "  inflating: brown/ck03              \n",
            "  inflating: brown/ck04              \n",
            "  inflating: brown/ck05              \n",
            "  inflating: brown/ck06              \n",
            "  inflating: brown/ck07              \n",
            "  inflating: brown/ck08              \n",
            "  inflating: brown/ck09              \n",
            "  inflating: brown/ck10              \n",
            "  inflating: brown/ck11              \n",
            "  inflating: brown/ck12              \n",
            "  inflating: brown/ck13              \n",
            "  inflating: brown/ck14              \n",
            "  inflating: brown/ck15              \n",
            "  inflating: brown/ck16              \n",
            "  inflating: brown/ck17              \n",
            "  inflating: brown/ck18              \n",
            "  inflating: brown/ck19              \n",
            "  inflating: brown/ck20              \n",
            "  inflating: brown/ck21              \n",
            "  inflating: brown/ck22              \n",
            "  inflating: brown/ck23              \n",
            "  inflating: brown/ck24              \n",
            "  inflating: brown/ck25              \n",
            "  inflating: brown/ck26              \n",
            "  inflating: brown/ck27              \n",
            "  inflating: brown/ck28              \n",
            "  inflating: brown/ck29              \n",
            "  inflating: brown/cl01              \n",
            "  inflating: brown/cl02              \n",
            "  inflating: brown/cl03              \n",
            "  inflating: brown/cl04              \n",
            "  inflating: brown/cl05              \n",
            "  inflating: brown/cl06              \n",
            "  inflating: brown/cl07              \n",
            "  inflating: brown/cl08              \n",
            "  inflating: brown/cl09              \n",
            "  inflating: brown/cl10              \n",
            "  inflating: brown/cl11              \n",
            "  inflating: brown/cl12              \n",
            "  inflating: brown/cl13              \n",
            "  inflating: brown/cl14              \n",
            "  inflating: brown/cl15              \n",
            "  inflating: brown/cl16              \n",
            "  inflating: brown/cl17              \n",
            "  inflating: brown/cl18              \n",
            "  inflating: brown/cl19              \n",
            "  inflating: brown/cl20              \n",
            "  inflating: brown/cl21              \n",
            "  inflating: brown/cl22              \n",
            "  inflating: brown/cl23              \n",
            "  inflating: brown/cl24              \n",
            "  inflating: brown/cm01              \n",
            "  inflating: brown/cm02              \n",
            "  inflating: brown/cm03              \n",
            "  inflating: brown/cm04              \n",
            "  inflating: brown/cm05              \n",
            "  inflating: brown/cm06              \n",
            "  inflating: brown/cn01              \n",
            "  inflating: brown/cn02              \n",
            "  inflating: brown/cn03              \n",
            "  inflating: brown/cn04              \n",
            "  inflating: brown/cn05              \n",
            "  inflating: brown/cn06              \n",
            "  inflating: brown/cn07              \n",
            "  inflating: brown/cn08              \n",
            "  inflating: brown/cn09              \n",
            "  inflating: brown/cn10              \n",
            "  inflating: brown/cn11              \n",
            "  inflating: brown/cn12              \n",
            "  inflating: brown/cn13              \n",
            "  inflating: brown/cn14              \n",
            "  inflating: brown/cn15              \n",
            "  inflating: brown/cn16              \n",
            "  inflating: brown/cn17              \n",
            "  inflating: brown/cn18              \n",
            "  inflating: brown/cn19              \n",
            "  inflating: brown/cn20              \n",
            "  inflating: brown/cn21              \n",
            "  inflating: brown/cn22              \n",
            "  inflating: brown/cn23              \n",
            "  inflating: brown/cn24              \n",
            "  inflating: brown/cn25              \n",
            "  inflating: brown/cn26              \n",
            "  inflating: brown/cn27              \n",
            "  inflating: brown/cn28              \n",
            "  inflating: brown/cn29              \n",
            "  inflating: brown/CONTENTS          \n",
            "  inflating: brown/cp01              \n",
            "  inflating: brown/cp02              \n",
            "  inflating: brown/cp03              \n",
            "  inflating: brown/cp04              \n",
            "  inflating: brown/cp05              \n",
            "  inflating: brown/cp06              \n",
            "  inflating: brown/cp07              \n",
            "  inflating: brown/cp08              \n",
            "  inflating: brown/cp09              \n",
            "  inflating: brown/cp10              \n",
            "  inflating: brown/cp11              \n",
            "  inflating: brown/cp12              \n",
            "  inflating: brown/cp13              \n",
            "  inflating: brown/cp14              \n",
            "  inflating: brown/cp15              \n",
            "  inflating: brown/cp16              \n",
            "  inflating: brown/cp17              \n",
            "  inflating: brown/cp18              \n",
            "  inflating: brown/cp19              \n",
            "  inflating: brown/cp20              \n",
            "  inflating: brown/cp21              \n",
            "  inflating: brown/cp22              \n",
            "  inflating: brown/cp23              \n",
            "  inflating: brown/cp24              \n",
            "  inflating: brown/cp25              \n",
            "  inflating: brown/cp26              \n",
            "  inflating: brown/cp27              \n",
            "  inflating: brown/cp28              \n",
            "  inflating: brown/cp29              \n",
            "  inflating: brown/cr01              \n",
            "  inflating: brown/cr02              \n",
            "  inflating: brown/cr03              \n",
            "  inflating: brown/cr04              \n",
            "  inflating: brown/cr05              \n",
            "  inflating: brown/cr06              \n",
            "  inflating: brown/cr07              \n",
            "  inflating: brown/cr08              \n",
            "  inflating: brown/cr09              \n",
            "  inflating: brown/README            \n"
          ]
        }
      ]
    },
    {
      "cell_type": "code",
      "metadata": {
        "id": "OMNtaRc_MxwM"
      },
      "source": [
        "!mv /root/nltk_data/corpora/reuters.zip /root/nltk_data"
      ],
      "execution_count": null,
      "outputs": []
    },
    {
      "cell_type": "code",
      "metadata": {
        "id": "b08SJ4F-I9Lb"
      },
      "source": [
        "from nltk.corpus import brown"
      ],
      "execution_count": 2,
      "outputs": []
    },
    {
      "cell_type": "code",
      "metadata": {
        "id": "H1OVI_syJjAb"
      },
      "source": [
        "first_1000  = brown.words()[0:1000]"
      ],
      "execution_count": 3,
      "outputs": []
    },
    {
      "cell_type": "code",
      "metadata": {
        "id": "vVzPnl1Yfb-Z",
        "outputId": "5393d59b-f01f-4045-e16b-1e19072e67ea",
        "colab": {
          "base_uri": "https://localhost:8080/"
        }
      },
      "source": [
        "brown.words()[0:10]"
      ],
      "execution_count": 10,
      "outputs": [
        {
          "output_type": "execute_result",
          "data": {
            "text/plain": [
              "['The',\n",
              " 'Fulton',\n",
              " 'County',\n",
              " 'Grand',\n",
              " 'Jury',\n",
              " 'said',\n",
              " 'Friday',\n",
              " 'an',\n",
              " 'investigation',\n",
              " 'of']"
            ]
          },
          "metadata": {},
          "execution_count": 10
        }
      ]
    },
    {
      "cell_type": "code",
      "metadata": {
        "colab": {
          "base_uri": "https://localhost:8080/"
        },
        "id": "OYQSZmpOLLDi",
        "outputId": "0505a362-55dd-488a-d36e-00a9104d2db7"
      },
      "source": [
        "print(len(set(first_1000)))"
      ],
      "execution_count": 4,
      "outputs": [
        {
          "output_type": "stream",
          "name": "stdout",
          "text": [
            "438\n"
          ]
        }
      ]
    },
    {
      "cell_type": "code",
      "metadata": {
        "id": "DjahorWyPDdX"
      },
      "source": [
        "principal_modal_verbs = ['can', 'could', 'may', 'might', 'must', 'ought', 'shall', 'should', 'will', 'would']"
      ],
      "execution_count": 5,
      "outputs": []
    },
    {
      "cell_type": "code",
      "metadata": {
        "colab": {
          "base_uri": "https://localhost:8080/"
        },
        "id": "-CdgtWwTS7Dm",
        "outputId": "eda3349e-3e32-479b-f381-450a664afb8f"
      },
      "source": [
        "print(first_1000[0:10])"
      ],
      "execution_count": 6,
      "outputs": [
        {
          "output_type": "stream",
          "name": "stdout",
          "text": [
            "['The', 'Fulton', 'County', 'Grand', 'Jury', 'said', 'Friday', 'an', 'investigation', 'of']\n"
          ]
        }
      ]
    },
    {
      "cell_type": "code",
      "metadata": {
        "id": "7VrOXtRRTI4V"
      },
      "source": [
        "list1 = [ 3, 4, 7 ]\n",
        "list2 = [ 5, 2, 3, 5, 3, 4, 4, 9 ]"
      ],
      "execution_count": null,
      "outputs": []
    },
    {
      "cell_type": "code",
      "metadata": {
        "colab": {
          "base_uri": "https://localhost:8080/"
        },
        "id": "gQjjOYT-TZwO",
        "outputId": "e9edd3d5-c3a5-4e8d-b966-a96d63c20717"
      },
      "source": [
        "list2.count(3)"
      ],
      "execution_count": null,
      "outputs": [
        {
          "output_type": "execute_result",
          "data": {
            "text/plain": [
              "2"
            ]
          },
          "metadata": {},
          "execution_count": 58
        }
      ]
    },
    {
      "cell_type": "code",
      "metadata": {
        "id": "CQXY9jA4TbI2"
      },
      "source": [
        "s = 0\n",
        "for number in list1: \n",
        "   s += list2.count(number);"
      ],
      "execution_count": null,
      "outputs": []
    },
    {
      "cell_type": "code",
      "metadata": {
        "id": "me3hpn_5T0du"
      },
      "source": [
        "pmv_dict = {}\n",
        "for key in principal_modal_verbs:\n",
        "    count = 0\n",
        "    count += brown.words().count(key)\n",
        "    pmv_dict[key] = count"
      ],
      "execution_count": 11,
      "outputs": []
    },
    {
      "cell_type": "code",
      "metadata": {
        "colab": {
          "base_uri": "https://localhost:8080/"
        },
        "id": "R68mJDjMT2b3",
        "outputId": "3bf2869a-86e9-441e-c66b-a06469163d9c"
      },
      "source": [
        "pmv_dict"
      ],
      "execution_count": 12,
      "outputs": [
        {
          "output_type": "execute_result",
          "data": {
            "text/plain": [
              "{'can': 1738,\n",
              " 'could': 1580,\n",
              " 'may': 1292,\n",
              " 'might': 670,\n",
              " 'must': 1003,\n",
              " 'ought': 66,\n",
              " 'shall': 254,\n",
              " 'should': 865,\n",
              " 'will': 2204,\n",
              " 'would': 2677}"
            ]
          },
          "metadata": {},
          "execution_count": 12
        }
      ]
    },
    {
      "cell_type": "code",
      "metadata": {
        "id": "g02s8wclgLNs",
        "outputId": "d9287f1d-0876-4d14-fcf4-27af23428eb2",
        "colab": {
          "base_uri": "https://localhost:8080/"
        }
      },
      "source": [
        "brown_lower = [x.lower() for x in brown.words()]\n",
        "print(len(brown_lower))"
      ],
      "execution_count": 14,
      "outputs": [
        {
          "output_type": "stream",
          "name": "stdout",
          "text": [
            "1161192\n"
          ]
        }
      ]
    },
    {
      "cell_type": "code",
      "metadata": {
        "id": "crc8MS5-gLeU",
        "outputId": "e862dffe-01a0-43c3-eb23-827467a24111",
        "colab": {
          "base_uri": "https://localhost:8080/"
        }
      },
      "source": [
        "print(len(brown.words()))"
      ],
      "execution_count": 15,
      "outputs": [
        {
          "output_type": "stream",
          "name": "stdout",
          "text": [
            "1161192\n"
          ]
        }
      ]
    },
    {
      "cell_type": "code",
      "metadata": {
        "id": "rFeqRQ1KgjY8"
      },
      "source": [
        "pmv_dict2 = {}\n",
        "for key in principal_modal_verbs:\n",
        "    count = 0\n",
        "    count += brown_lower.count(key)\n",
        "    pmv_dict2[key] = count"
      ],
      "execution_count": 16,
      "outputs": []
    },
    {
      "cell_type": "code",
      "metadata": {
        "id": "HWku9Nj6gsqk",
        "outputId": "d411ad42-a537-46e6-cd89-8b4a0bfe0608",
        "colab": {
          "base_uri": "https://localhost:8080/"
        }
      },
      "source": [
        "pmv_dict2"
      ],
      "execution_count": 17,
      "outputs": [
        {
          "output_type": "execute_result",
          "data": {
            "text/plain": [
              "{'can': 1772,\n",
              " 'could': 1601,\n",
              " 'may': 1402,\n",
              " 'might': 672,\n",
              " 'must': 1013,\n",
              " 'ought': 68,\n",
              " 'shall': 268,\n",
              " 'should': 888,\n",
              " 'will': 2245,\n",
              " 'would': 2714}"
            ]
          },
          "metadata": {},
          "execution_count": 17
        }
      ]
    },
    {
      "cell_type": "code",
      "metadata": {
        "id": "MyQziGFYUjsg"
      },
      "source": [
        "all_bigrams = list(nltk.bigrams(brown.words()))"
      ],
      "execution_count": null,
      "outputs": []
    },
    {
      "cell_type": "code",
      "metadata": {
        "id": "mipkBnp0U7xg"
      },
      "source": [
        "unique_bigrams = set(all_bigrams)"
      ],
      "execution_count": null,
      "outputs": []
    },
    {
      "cell_type": "code",
      "metadata": {
        "colab": {
          "base_uri": "https://localhost:8080/"
        },
        "id": "rrNfiip9VS2w",
        "outputId": "15df2872-7d9a-4900-9fbd-9554decdba6a"
      },
      "source": [
        "len(unique_bigrams)"
      ],
      "execution_count": null,
      "outputs": [
        {
          "output_type": "execute_result",
          "data": {
            "text/plain": [
              "455267"
            ]
          },
          "metadata": {},
          "execution_count": 73
        }
      ]
    },
    {
      "cell_type": "code",
      "metadata": {
        "colab": {
          "base_uri": "https://localhost:8080/"
        },
        "id": "5LPhsrObVU_5",
        "outputId": "c84d4452-141a-4fa4-a062-19f0999da9f2"
      },
      "source": [
        "len(all_bigrams)"
      ],
      "execution_count": null,
      "outputs": [
        {
          "output_type": "execute_result",
          "data": {
            "text/plain": [
              "1161191"
            ]
          },
          "metadata": {},
          "execution_count": 74
        }
      ]
    },
    {
      "cell_type": "code",
      "metadata": {
        "id": "vdWDpjfmVnZD"
      },
      "source": [
        "test = all_bigrams[0:10]"
      ],
      "execution_count": null,
      "outputs": []
    },
    {
      "cell_type": "code",
      "metadata": {
        "colab": {
          "base_uri": "https://localhost:8080/"
        },
        "id": "ZEiKF1BTVv6S",
        "outputId": "a7808ea6-2310-428c-d9b1-d18384dfda19"
      },
      "source": [
        "test"
      ],
      "execution_count": null,
      "outputs": [
        {
          "output_type": "execute_result",
          "data": {
            "text/plain": [
              "[('The', 'Fulton'),\n",
              " ('Fulton', 'County'),\n",
              " ('County', 'Grand'),\n",
              " ('Grand', 'Jury'),\n",
              " ('Jury', 'said'),\n",
              " ('said', 'Friday'),\n",
              " ('Friday', 'an'),\n",
              " ('an', 'investigation'),\n",
              " ('investigation', 'of'),\n",
              " ('of', \"Atlanta's\")]"
            ]
          },
          "metadata": {},
          "execution_count": 77
        }
      ]
    },
    {
      "cell_type": "code",
      "metadata": {
        "colab": {
          "base_uri": "https://localhost:8080/"
        },
        "id": "YMVyn8T3WCA1",
        "outputId": "6be59c74-3d3e-46c1-ebbe-68ea0c51f49b"
      },
      "source": [
        "'The' in all_bigrams"
      ],
      "execution_count": null,
      "outputs": [
        {
          "output_type": "execute_result",
          "data": {
            "text/plain": [
              "False"
            ]
          },
          "metadata": {},
          "execution_count": 78
        }
      ]
    },
    {
      "cell_type": "code",
      "metadata": {
        "colab": {
          "base_uri": "https://localhost:8080/"
        },
        "id": "u5LxYZHAWFUd",
        "outputId": "4082e689-d9e9-4d01-dcb5-65a1dc74b058"
      },
      "source": [
        "all_bigrams.count(('The', 'Fulton'))"
      ],
      "execution_count": null,
      "outputs": [
        {
          "output_type": "execute_result",
          "data": {
            "text/plain": [
              "1"
            ]
          },
          "metadata": {},
          "execution_count": 80
        }
      ]
    },
    {
      "cell_type": "code",
      "metadata": {
        "id": "57wjN38WWJjV"
      },
      "source": [
        "a= [(1,2),(1,4),(3,5),(5,1)]"
      ],
      "execution_count": null,
      "outputs": []
    },
    {
      "cell_type": "code",
      "metadata": {
        "id": "QpS7cDtrW5dx"
      },
      "source": [
        "b = len([item for item in a if 1 in item])"
      ],
      "execution_count": null,
      "outputs": []
    },
    {
      "cell_type": "code",
      "metadata": {
        "colab": {
          "base_uri": "https://localhost:8080/"
        },
        "id": "q6gpygWlXDSy",
        "outputId": "5e4d578f-87b7-4a30-c466-2c138c9bb262"
      },
      "source": [
        "b"
      ],
      "execution_count": null,
      "outputs": [
        {
          "output_type": "execute_result",
          "data": {
            "text/plain": [
              "3"
            ]
          },
          "metadata": {},
          "execution_count": 92
        }
      ]
    },
    {
      "cell_type": "code",
      "metadata": {
        "colab": {
          "base_uri": "https://localhost:8080/"
        },
        "id": "V9epNWc3XFhK",
        "outputId": "926de116-402f-4aa6-eecd-1e465254fee3"
      },
      "source": [
        "Ncan_all = len([item for item in all_bigrams if 'can' in item])\n",
        "print(Ncan_all)"
      ],
      "execution_count": null,
      "outputs": [
        {
          "output_type": "stream",
          "name": "stdout",
          "text": [
            "3476\n"
          ]
        }
      ]
    },
    {
      "cell_type": "code",
      "metadata": {
        "colab": {
          "base_uri": "https://localhost:8080/"
        },
        "id": "HekP6yc_XfM8",
        "outputId": "16ccc6b6-ab05-4aec-ef34-364f31f0603f"
      },
      "source": [
        "print(len([item for item in unique_bigrams if 'can' in item]))"
      ],
      "execution_count": null,
      "outputs": [
        {
          "output_type": "stream",
          "name": "stdout",
          "text": [
            "1115\n"
          ]
        }
      ]
    },
    {
      "cell_type": "code",
      "metadata": {
        "colab": {
          "base_uri": "https://localhost:8080/"
        },
        "id": "sDrgWuBbXgKk",
        "outputId": "3cf1a134-fac9-4681-c06e-a23d1787e50f"
      },
      "source": [
        "'mis' in 'mismanagement'[0:len('mis')]"
      ],
      "execution_count": null,
      "outputs": [
        {
          "output_type": "execute_result",
          "data": {
            "text/plain": [
              "True"
            ]
          },
          "metadata": {},
          "execution_count": 104
        }
      ]
    },
    {
      "cell_type": "code",
      "metadata": {
        "id": "DYGpBBGTc75d"
      },
      "source": [
        "prefix = 'mis'"
      ],
      "execution_count": null,
      "outputs": []
    },
    {
      "cell_type": "code",
      "metadata": {
        "id": "prsUlRIKdF1n"
      },
      "source": [
        "prefix_list = [item for item in brown.words() if prefix in item.lower()[0:len(prefix)]]"
      ],
      "execution_count": null,
      "outputs": []
    },
    {
      "cell_type": "code",
      "metadata": {
        "colab": {
          "base_uri": "https://localhost:8080/"
        },
        "id": "hBmRFNjOdaEw",
        "outputId": "7e160c10-377b-4894-d50a-2edc36734fd8"
      },
      "source": [
        "len(prefix_list)"
      ],
      "execution_count": null,
      "outputs": [
        {
          "output_type": "execute_result",
          "data": {
            "text/plain": [
              "933"
            ]
          },
          "metadata": {},
          "execution_count": 115
        }
      ]
    },
    {
      "cell_type": "code",
      "metadata": {
        "colab": {
          "base_uri": "https://localhost:8080/"
        },
        "id": "Buy4UVQhdb8A",
        "outputId": "a529b127-b291-4aa4-932d-fb6f35b378b9"
      },
      "source": [
        "prefix_list[0:10]"
      ],
      "execution_count": null,
      "outputs": [
        {
          "output_type": "execute_result",
          "data": {
            "text/plain": [
              "['missing',\n",
              " 'miscellaneous',\n",
              " 'Mission',\n",
              " 'misuse',\n",
              " 'miscount',\n",
              " 'Miss',\n",
              " 'Miss',\n",
              " 'Miss',\n",
              " 'Misunderstanding',\n",
              " 'misconstrued']"
            ]
          },
          "metadata": {},
          "execution_count": 116
        }
      ]
    },
    {
      "cell_type": "code",
      "metadata": {
        "id": "QBsBwks-eMaC"
      },
      "source": [
        "sorted_prefix_list = sorted(set(prefix_list))"
      ],
      "execution_count": null,
      "outputs": []
    },
    {
      "cell_type": "code",
      "metadata": {
        "colab": {
          "base_uri": "https://localhost:8080/"
        },
        "id": "fRxl6phVeOTq",
        "outputId": "7eebebca-d996-4138-d09d-860eaa846962"
      },
      "source": [
        "sorted_prefix_list[0:100]"
      ],
      "execution_count": null,
      "outputs": [
        {
          "output_type": "execute_result",
          "data": {
            "text/plain": [
              "['Mis-ter',\n",
              " 'Misbegotten',\n",
              " 'Miscellaneous',\n",
              " 'Miscellany',\n",
              " 'Mischa',\n",
              " 'Mises',\n",
              " 'Miss',\n",
              " 'Miss.',\n",
              " 'Missa',\n",
              " 'Missail',\n",
              " 'Misses',\n",
              " 'Missile',\n",
              " 'Missiles',\n",
              " 'Mission',\n",
              " 'Missionary',\n",
              " 'Missions',\n",
              " 'Mississippi',\n",
              " \"Mississippi's\",\n",
              " 'Mississippians',\n",
              " 'Missoula',\n",
              " 'Missouri',\n",
              " \"Missouri's\",\n",
              " 'Missouri-Illinois',\n",
              " 'Missy',\n",
              " 'Mist',\n",
              " 'Mister',\n",
              " 'Misunderstanding',\n",
              " 'mis-reading',\n",
              " 'misalignment',\n",
              " 'misanthrope',\n",
              " 'misbehavior',\n",
              " 'misbranded',\n",
              " 'miscalculated',\n",
              " 'miscalculation',\n",
              " 'miscalculations',\n",
              " 'miscarried',\n",
              " 'miscegenation',\n",
              " 'miscellaneous',\n",
              " 'miscellanies',\n",
              " 'miscellany',\n",
              " 'mischief',\n",
              " 'mischievous',\n",
              " 'misconception',\n",
              " 'misconceptions',\n",
              " 'misconstruction',\n",
              " 'misconstructions',\n",
              " 'misconstrued',\n",
              " 'miscount',\n",
              " 'miscreant',\n",
              " 'miscreants',\n",
              " 'misdeeds',\n",
              " 'misdemeanants',\n",
              " 'misdemeanor',\n",
              " 'misdirectors',\n",
              " 'miserable',\n",
              " 'miserably',\n",
              " 'miseries',\n",
              " 'misery',\n",
              " 'misfired',\n",
              " 'misfortune',\n",
              " 'misfortunes',\n",
              " 'misgauged',\n",
              " 'misgivings',\n",
              " 'misguided',\n",
              " 'mishap',\n",
              " 'misinformation',\n",
              " 'misinterpret',\n",
              " 'misinterpretation',\n",
              " 'misinterpreted',\n",
              " 'misinterpreters',\n",
              " 'misjudged',\n",
              " 'misleading',\n",
              " 'misleads',\n",
              " 'misled',\n",
              " 'mismanaged',\n",
              " 'misnamed',\n",
              " 'misnomer',\n",
              " 'miso',\n",
              " 'misogynist',\n",
              " 'misperceives',\n",
              " 'misplaced',\n",
              " 'misplacements',\n",
              " 'misplacing',\n",
              " 'mispronunciation',\n",
              " 'misquoted',\n",
              " 'misrelated',\n",
              " 'misrepresentation',\n",
              " 'misrepresentations',\n",
              " 'misrepresenting',\n",
              " 'misrepresents',\n",
              " 'miss',\n",
              " 'missed',\n",
              " 'misses',\n",
              " 'misshapen',\n",
              " 'missile',\n",
              " \"missile's\",\n",
              " 'missile-type',\n",
              " 'missiles',\n",
              " 'missing',\n",
              " 'mission']"
            ]
          },
          "metadata": {},
          "execution_count": 125
        }
      ]
    },
    {
      "cell_type": "code",
      "metadata": {
        "id": "gBZmge9_eotb"
      },
      "source": [
        "from nltk.stem import *"
      ],
      "execution_count": null,
      "outputs": []
    },
    {
      "cell_type": "code",
      "metadata": {
        "id": "Kk1p1UIsjjTt"
      },
      "source": [
        "from nltk.stem.porter import *"
      ],
      "execution_count": null,
      "outputs": []
    },
    {
      "cell_type": "code",
      "metadata": {
        "id": "X9SQvnsMjn60"
      },
      "source": [
        "stemmer = PorterStemmer()"
      ],
      "execution_count": null,
      "outputs": []
    },
    {
      "cell_type": "code",
      "metadata": {
        "id": "jhVj6JeEjqv2"
      },
      "source": [
        "stemmed = [stemmer.stem(item) for item in sorted_prefix_list]"
      ],
      "execution_count": null,
      "outputs": []
    },
    {
      "cell_type": "code",
      "metadata": {
        "colab": {
          "base_uri": "https://localhost:8080/"
        },
        "id": "m6VJYJZ6j7en",
        "outputId": "1c771cbf-bdbc-4f15-a03e-c09e43a7431c"
      },
      "source": [
        "stemmed"
      ],
      "execution_count": null,
      "outputs": [
        {
          "output_type": "execute_result",
          "data": {
            "text/plain": [
              "['mis-ter',\n",
              " 'misbegotten',\n",
              " 'miscellan',\n",
              " 'miscellani',\n",
              " 'mischa',\n",
              " 'mise',\n",
              " 'miss',\n",
              " 'miss.',\n",
              " 'missa',\n",
              " 'missail',\n",
              " 'miss',\n",
              " 'missil',\n",
              " 'missil',\n",
              " 'mission',\n",
              " 'missionari',\n",
              " 'mission',\n",
              " 'mississippi',\n",
              " \"mississippi'\",\n",
              " 'mississippian',\n",
              " 'missoula',\n",
              " 'missouri',\n",
              " \"missouri'\",\n",
              " 'missouri-illinoi',\n",
              " 'missi',\n",
              " 'mist',\n",
              " 'mister',\n",
              " 'misunderstand',\n",
              " 'mis-read',\n",
              " 'misalign',\n",
              " 'misanthrop',\n",
              " 'misbehavior',\n",
              " 'misbrand',\n",
              " 'miscalcul',\n",
              " 'miscalcul',\n",
              " 'miscalcul',\n",
              " 'miscarri',\n",
              " 'miscegen',\n",
              " 'miscellan',\n",
              " 'miscellani',\n",
              " 'miscellani',\n",
              " 'mischief',\n",
              " 'mischiev',\n",
              " 'misconcept',\n",
              " 'misconcept',\n",
              " 'misconstruct',\n",
              " 'misconstruct',\n",
              " 'misconstru',\n",
              " 'miscount',\n",
              " 'miscreant',\n",
              " 'miscreant',\n",
              " 'misde',\n",
              " 'misdemean',\n",
              " 'misdemeanor',\n",
              " 'misdirector',\n",
              " 'miser',\n",
              " 'miser',\n",
              " 'miseri',\n",
              " 'miseri',\n",
              " 'misfir',\n",
              " 'misfortun',\n",
              " 'misfortun',\n",
              " 'misgaug',\n",
              " 'misgiv',\n",
              " 'misguid',\n",
              " 'mishap',\n",
              " 'misinform',\n",
              " 'misinterpret',\n",
              " 'misinterpret',\n",
              " 'misinterpret',\n",
              " 'misinterpret',\n",
              " 'misjudg',\n",
              " 'mislead',\n",
              " 'mislead',\n",
              " 'misl',\n",
              " 'mismanag',\n",
              " 'misnam',\n",
              " 'misnom',\n",
              " 'miso',\n",
              " 'misogynist',\n",
              " 'misperc',\n",
              " 'misplac',\n",
              " 'misplac',\n",
              " 'misplac',\n",
              " 'mispronunci',\n",
              " 'misquot',\n",
              " 'misrel',\n",
              " 'misrepresent',\n",
              " 'misrepresent',\n",
              " 'misrepres',\n",
              " 'misrepres',\n",
              " 'miss',\n",
              " 'miss',\n",
              " 'miss',\n",
              " 'misshapen',\n",
              " 'missil',\n",
              " \"missile'\",\n",
              " 'missile-typ',\n",
              " 'missil',\n",
              " 'miss',\n",
              " 'mission',\n",
              " 'missionari',\n",
              " 'missionari',\n",
              " 'mission',\n",
              " 'missiv',\n",
              " 'misstep',\n",
              " 'missi',\n",
              " 'mist',\n",
              " 'mist-lik',\n",
              " 'mistak',\n",
              " 'mistaken',\n",
              " 'mistakenli',\n",
              " 'mistak',\n",
              " 'mistak',\n",
              " 'mist',\n",
              " 'mister',\n",
              " 'mistleto',\n",
              " 'mistook',\n",
              " 'mistress',\n",
              " 'mistrial',\n",
              " 'mistrust',\n",
              " 'mistrust',\n",
              " 'mist',\n",
              " 'misti',\n",
              " 'misty-ey',\n",
              " 'misunderstand',\n",
              " 'misunderstand',\n",
              " 'misunderstand',\n",
              " 'misunderstand',\n",
              " 'misunderstood',\n",
              " 'misus',\n",
              " 'miswritten']"
            ]
          },
          "metadata": {},
          "execution_count": 130
        }
      ]
    },
    {
      "cell_type": "code",
      "metadata": {
        "colab": {
          "base_uri": "https://localhost:8080/"
        },
        "id": "ZyueI2Nsqjbr",
        "outputId": "4e70ec6a-becd-48bb-aa44-ee6049509e8d"
      },
      "source": [
        "nltk.download('punkt')\n",
        "nltk.download('averaged_perceptron_tagger')\n",
        "nltk.download('tagsets')"
      ],
      "execution_count": null,
      "outputs": [
        {
          "output_type": "stream",
          "name": "stdout",
          "text": [
            "[nltk_data] Downloading package punkt to /root/nltk_data...\n",
            "[nltk_data]   Package punkt is already up-to-date!\n",
            "[nltk_data] Downloading package averaged_perceptron_tagger to\n",
            "[nltk_data]     /root/nltk_data...\n",
            "[nltk_data]   Package averaged_perceptron_tagger is already up-to-\n",
            "[nltk_data]       date!\n",
            "[nltk_data] Downloading package tagsets to /root/nltk_data...\n",
            "[nltk_data]   Unzipping help/tagsets.zip.\n"
          ]
        },
        {
          "output_type": "execute_result",
          "data": {
            "text/plain": [
              "True"
            ]
          },
          "metadata": {},
          "execution_count": 148
        }
      ]
    },
    {
      "cell_type": "code",
      "metadata": {
        "id": "H6qM5RMCj8Y-"
      },
      "source": [
        "sentence = 'John ran fast'"
      ],
      "execution_count": null,
      "outputs": []
    },
    {
      "cell_type": "code",
      "metadata": {
        "id": "2oKQM4rZpovR"
      },
      "source": [
        "import nltk\n",
        "from nltk.tokenize import word_tokenize"
      ],
      "execution_count": null,
      "outputs": []
    },
    {
      "cell_type": "code",
      "metadata": {
        "colab": {
          "base_uri": "https://localhost:8080/"
        },
        "id": "rgJ1nBZhpreM",
        "outputId": "53094c86-eced-467e-ba84-a566fda4a656"
      },
      "source": [
        "text = word_tokenize(sentence)\n",
        "nltk.pos_tag(text)"
      ],
      "execution_count": null,
      "outputs": [
        {
          "output_type": "execute_result",
          "data": {
            "text/plain": [
              "[('John', 'NNP'), ('ran', 'VBD'), ('fast', 'RB')]"
            ]
          },
          "metadata": {},
          "execution_count": 151
        }
      ]
    },
    {
      "cell_type": "code",
      "metadata": {
        "colab": {
          "base_uri": "https://localhost:8080/"
        },
        "id": "24nihhCCpvPs",
        "outputId": "91af4162-c21e-49a6-d27b-81b62f173b4d"
      },
      "source": [
        "nltk.help.upenn_tagset('VBD')\n",
        "nltk.help.upenn_tagset('NNP')"
      ],
      "execution_count": null,
      "outputs": [
        {
          "output_type": "stream",
          "name": "stdout",
          "text": [
            "VBD: verb, past tense\n",
            "    dipped pleaded swiped regummed soaked tidied convened halted registered\n",
            "    cushioned exacted snubbed strode aimed adopted belied figgered\n",
            "    speculated wore appreciated contemplated ...\n",
            "NNP: noun, proper, singular\n",
            "    Motown Venneboerger Czestochwa Ranzer Conchita Trumplane Christos\n",
            "    Oceanside Escobar Kreisler Sawyer Cougar Yvette Ervin ODI Darryl CTCA\n",
            "    Shannon A.K.C. Meltex Liverpool ...\n"
          ]
        }
      ]
    },
    {
      "cell_type": "code",
      "metadata": {
        "colab": {
          "base_uri": "https://localhost:8080/"
        },
        "id": "zaLYmU1pq99k",
        "outputId": "6ea40086-58eb-4489-ed61-8478317b74c6"
      },
      "source": [
        "temp = nltk.help.upenn_tagset()"
      ],
      "execution_count": null,
      "outputs": [
        {
          "output_type": "stream",
          "name": "stdout",
          "text": [
            "$: dollar\n",
            "    $ -$ --$ A$ C$ HK$ M$ NZ$ S$ U.S.$ US$\n",
            "'': closing quotation mark\n",
            "    ' ''\n",
            "(: opening parenthesis\n",
            "    ( [ {\n",
            "): closing parenthesis\n",
            "    ) ] }\n",
            ",: comma\n",
            "    ,\n",
            "--: dash\n",
            "    --\n",
            ".: sentence terminator\n",
            "    . ! ?\n",
            ":: colon or ellipsis\n",
            "    : ; ...\n",
            "CC: conjunction, coordinating\n",
            "    & 'n and both but either et for less minus neither nor or plus so\n",
            "    therefore times v. versus vs. whether yet\n",
            "CD: numeral, cardinal\n",
            "    mid-1890 nine-thirty forty-two one-tenth ten million 0.5 one forty-\n",
            "    seven 1987 twenty '79 zero two 78-degrees eighty-four IX '60s .025\n",
            "    fifteen 271,124 dozen quintillion DM2,000 ...\n",
            "DT: determiner\n",
            "    all an another any both del each either every half la many much nary\n",
            "    neither no some such that the them these this those\n",
            "EX: existential there\n",
            "    there\n",
            "FW: foreign word\n",
            "    gemeinschaft hund ich jeux habeas Haementeria Herr K'ang-si vous\n",
            "    lutihaw alai je jour objets salutaris fille quibusdam pas trop Monte\n",
            "    terram fiche oui corporis ...\n",
            "IN: preposition or conjunction, subordinating\n",
            "    astride among uppon whether out inside pro despite on by throughout\n",
            "    below within for towards near behind atop around if like until below\n",
            "    next into if beside ...\n",
            "JJ: adjective or numeral, ordinal\n",
            "    third ill-mannered pre-war regrettable oiled calamitous first separable\n",
            "    ectoplasmic battery-powered participatory fourth still-to-be-named\n",
            "    multilingual multi-disciplinary ...\n",
            "JJR: adjective, comparative\n",
            "    bleaker braver breezier briefer brighter brisker broader bumper busier\n",
            "    calmer cheaper choosier cleaner clearer closer colder commoner costlier\n",
            "    cozier creamier crunchier cuter ...\n",
            "JJS: adjective, superlative\n",
            "    calmest cheapest choicest classiest cleanest clearest closest commonest\n",
            "    corniest costliest crassest creepiest crudest cutest darkest deadliest\n",
            "    dearest deepest densest dinkiest ...\n",
            "LS: list item marker\n",
            "    A A. B B. C C. D E F First G H I J K One SP-44001 SP-44002 SP-44005\n",
            "    SP-44007 Second Third Three Two * a b c d first five four one six three\n",
            "    two\n",
            "MD: modal auxiliary\n",
            "    can cannot could couldn't dare may might must need ought shall should\n",
            "    shouldn't will would\n",
            "NN: noun, common, singular or mass\n",
            "    common-carrier cabbage knuckle-duster Casino afghan shed thermostat\n",
            "    investment slide humour falloff slick wind hyena override subhumanity\n",
            "    machinist ...\n",
            "NNP: noun, proper, singular\n",
            "    Motown Venneboerger Czestochwa Ranzer Conchita Trumplane Christos\n",
            "    Oceanside Escobar Kreisler Sawyer Cougar Yvette Ervin ODI Darryl CTCA\n",
            "    Shannon A.K.C. Meltex Liverpool ...\n",
            "NNPS: noun, proper, plural\n",
            "    Americans Americas Amharas Amityvilles Amusements Anarcho-Syndicalists\n",
            "    Andalusians Andes Andruses Angels Animals Anthony Antilles Antiques\n",
            "    Apache Apaches Apocrypha ...\n",
            "NNS: noun, common, plural\n",
            "    undergraduates scotches bric-a-brac products bodyguards facets coasts\n",
            "    divestitures storehouses designs clubs fragrances averages\n",
            "    subjectivists apprehensions muses factory-jobs ...\n",
            "PDT: pre-determiner\n",
            "    all both half many quite such sure this\n",
            "POS: genitive marker\n",
            "    ' 's\n",
            "PRP: pronoun, personal\n",
            "    hers herself him himself hisself it itself me myself one oneself ours\n",
            "    ourselves ownself self she thee theirs them themselves they thou thy us\n",
            "PRP$: pronoun, possessive\n",
            "    her his mine my our ours their thy your\n",
            "RB: adverb\n",
            "    occasionally unabatingly maddeningly adventurously professedly\n",
            "    stirringly prominently technologically magisterially predominately\n",
            "    swiftly fiscally pitilessly ...\n",
            "RBR: adverb, comparative\n",
            "    further gloomier grander graver greater grimmer harder harsher\n",
            "    healthier heavier higher however larger later leaner lengthier less-\n",
            "    perfectly lesser lonelier longer louder lower more ...\n",
            "RBS: adverb, superlative\n",
            "    best biggest bluntest earliest farthest first furthest hardest\n",
            "    heartiest highest largest least less most nearest second tightest worst\n",
            "RP: particle\n",
            "    aboard about across along apart around aside at away back before behind\n",
            "    by crop down ever fast for forth from go high i.e. in into just later\n",
            "    low more off on open out over per pie raising start teeth that through\n",
            "    under unto up up-pp upon whole with you\n",
            "SYM: symbol\n",
            "    % & ' '' ''. ) ). * + ,. < = > @ A[fj] U.S U.S.S.R * ** ***\n",
            "TO: \"to\" as preposition or infinitive marker\n",
            "    to\n",
            "UH: interjection\n",
            "    Goodbye Goody Gosh Wow Jeepers Jee-sus Hubba Hey Kee-reist Oops amen\n",
            "    huh howdy uh dammit whammo shucks heck anyways whodunnit honey golly\n",
            "    man baby diddle hush sonuvabitch ...\n",
            "VB: verb, base form\n",
            "    ask assemble assess assign assume atone attention avoid bake balkanize\n",
            "    bank begin behold believe bend benefit bevel beware bless boil bomb\n",
            "    boost brace break bring broil brush build ...\n",
            "VBD: verb, past tense\n",
            "    dipped pleaded swiped regummed soaked tidied convened halted registered\n",
            "    cushioned exacted snubbed strode aimed adopted belied figgered\n",
            "    speculated wore appreciated contemplated ...\n",
            "VBG: verb, present participle or gerund\n",
            "    telegraphing stirring focusing angering judging stalling lactating\n",
            "    hankerin' alleging veering capping approaching traveling besieging\n",
            "    encrypting interrupting erasing wincing ...\n",
            "VBN: verb, past participle\n",
            "    multihulled dilapidated aerosolized chaired languished panelized used\n",
            "    experimented flourished imitated reunifed factored condensed sheared\n",
            "    unsettled primed dubbed desired ...\n",
            "VBP: verb, present tense, not 3rd person singular\n",
            "    predominate wrap resort sue twist spill cure lengthen brush terminate\n",
            "    appear tend stray glisten obtain comprise detest tease attract\n",
            "    emphasize mold postpone sever return wag ...\n",
            "VBZ: verb, present tense, 3rd person singular\n",
            "    bases reconstructs marks mixes displeases seals carps weaves snatches\n",
            "    slumps stretches authorizes smolders pictures emerges stockpiles\n",
            "    seduces fizzes uses bolsters slaps speaks pleads ...\n",
            "WDT: WH-determiner\n",
            "    that what whatever which whichever\n",
            "WP: WH-pronoun\n",
            "    that what whatever whatsoever which who whom whosoever\n",
            "WP$: WH-pronoun, possessive\n",
            "    whose\n",
            "WRB: Wh-adverb\n",
            "    how however whence whenever where whereby whereever wherein whereof why\n",
            "``: opening quotation mark\n",
            "    ` ``\n"
          ]
        }
      ]
    },
    {
      "cell_type": "code",
      "metadata": {
        "colab": {
          "base_uri": "https://localhost:8080/",
          "height": 120
        },
        "id": "9iyiR8UAraNX",
        "outputId": "d8d41ef6-ee64-415b-c8c7-bada3d5f0f7d"
      },
      "source": [
        "brown.raw()[0:10000]"
      ],
      "execution_count": null,
      "outputs": [
        {
          "output_type": "execute_result",
          "data": {
            "application/vnd.google.colaboratory.intrinsic+json": {
              "type": "string"
            },
            "text/plain": [
              "\"\\n\\n\\tThe/at Fulton/np-tl County/nn-tl Grand/jj-tl Jury/nn-tl said/vbd Friday/nr an/at investigation/nn of/in Atlanta's/np$ recent/jj primary/nn election/nn produced/vbd ``/`` no/at evidence/nn ''/'' that/cs any/dti irregularities/nns took/vbd place/nn ./.\\n\\n\\n\\tThe/at jury/nn further/rbr said/vbd in/in term-end/nn presentments/nns that/cs the/at City/nn-tl Executive/jj-tl Committee/nn-tl ,/, which/wdt had/hvd over-all/jj charge/nn of/in the/at election/nn ,/, ``/`` deserves/vbz the/at praise/nn and/cc thanks/nns of/in the/at City/nn-tl of/in-tl Atlanta/np-tl ''/'' for/in the/at manner/nn in/in which/wdt the/at election/nn was/bedz conducted/vbn ./.\\n\\n\\n\\tThe/at September-October/np term/nn jury/nn had/hvd been/ben charged/vbn by/in Fulton/np-tl Superior/jj-tl Court/nn-tl Judge/nn-tl Durwood/np Pye/np to/to investigate/vb reports/nns of/in possible/jj ``/`` irregularities/nns ''/'' in/in the/at hard-fought/jj primary/nn which/wdt was/bedz won/vbn by/in Mayor-nominate/nn-tl Ivan/np Allen/np Jr./np ./.\\n\\n\\n\\t``/`` Only/rb a/at relative/jj handful/nn of/in such/jj reports/nns was/bedz received/vbn ''/'' ,/, the/at jury/nn said/vbd ,/, ``/`` considering/in the/at widespread/jj interest/nn in/in the/at election/nn ,/, the/at number/nn of/in voters/nns and/cc the/at size/nn of/in this/dt city/nn ''/'' ./.\\n\\n\\n\\tThe/at jury/nn said/vbd it/pps did/dod find/vb that/cs many/ap of/in Georgia's/np$ registration/nn and/cc election/nn laws/nns ``/`` are/ber outmoded/jj or/cc inadequate/jj and/cc often/rb ambiguous/jj ''/'' ./.\\n\\n\\n\\tIt/pps recommended/vbd that/cs Fulton/np legislators/nns act/vb ``/`` to/to have/hv these/dts laws/nns studied/vbn and/cc revised/vbn to/in the/at end/nn of/in modernizing/vbg and/cc improving/vbg them/ppo ''/'' ./.\\n\\n\\n\\tThe/at grand/jj jury/nn commented/vbd on/in a/at number/nn of/in other/ap topics/nns ,/, among/in them/ppo the/at Atlanta/np and/cc Fulton/np-tl County/nn-tl purchasing/vbg departments/nns which/wdt it/pps said/vbd ``/`` are/ber well/ql operated/vbn and/cc follow/vb generally/rb accepted/vbn practices/nns which/wdt inure/vb to/in the/at best/jjt interest/nn of/in both/abx governments/nns ''/'' ./.\\n\\n\\n\\nMerger/nn-hl proposed/vbn-hl \\nHowever/wrb ,/, the/at jury/nn said/vbd it/pps believes/vbz ``/`` these/dts two/cd offices/nns should/md be/be combined/vbn to/to achieve/vb greater/jjr efficiency/nn and/cc reduce/vb the/at cost/nn of/in administration/nn ''/'' ./.\\n\\n\\n\\tThe/at City/nn-tl Purchasing/vbg-tl Department/nn-tl ,/, the/at jury/nn said/vbd ,/, ``/`` is/bez lacking/vbg in/in experienced/vbn clerical/jj personnel/nns as/cs a/at result/nn of/in city/nn personnel/nns policies/nns ''/'' ./.\\nIt/pps urged/vbd that/cs the/at city/nn ``/`` take/vb steps/nns to/to remedy/vb ''/'' this/dt problem/nn ./.\\n\\n\\n\\tImplementation/nn of/in Georgia's/np$ automobile/nn title/nn law/nn was/bedz also/rb recommended/vbn by/in the/at outgoing/jj jury/nn ./.\\n\\n\\n\\tIt/pps urged/vbd that/cs the/at next/ap Legislature/nn-tl ``/`` provide/vb enabling/vbg funds/nns and/cc re-set/vb the/at effective/jj date/nn so/cs that/cs an/at orderly/jj implementation/nn of/in the/at law/nn may/md be/be effected/vbn ''/'' ./.\\n\\n\\n\\tThe/at grand/jj jury/nn took/vbd a/at swipe/nn at/in the/at State/nn-tl Welfare/nn-tl Department's/nn$-tl handling/nn of/in federal/jj funds/nns granted/vbn for/in child/nn welfare/nn services/nns in/in foster/jj homes/nns ./.\\n\\n\\n\\t``/`` This/dt is/bez one/cd of/in the/at major/jj items/nns in/in the/at Fulton/np-tl County/nn-tl general/jj assistance/nn program/nn ''/'' ,/, the/at jury/nn said/vbd ,/, but/cc the/at State/nn-tl Welfare/nn-tl Department/nn-tl ``/`` has/hvz seen/vbn fit/jj to/to distribute/vb these/dts funds/nns through/in the/at welfare/nn departments/nns of/in all/abn the/at counties/nns in/in the/at state/nn with/in the/at exception/nn of/in Fulton/np-tl County/nn-tl ,/, which/wdt receives/vbz none/pn of/in this/dt money/nn ./.\\n\\n\\n\\tThe/at jurors/nns said/vbd they/ppss realize/vb ``/`` a/at proportionate/jj distribution/nn of/in these/dts funds/nns might/md disable/vb this/dt program/nn in/in our/pp$ less/ql populous/jj counties/nns ''/'' ./.\\n\\n\\n\\tNevertheless/rb ,/, ``/`` we/ppss feel/vb that/cs in/in the/at future/nn Fulton/np-tl County/nn-tl should/md receive/vb some/dti portion/nn of/in these/dts available/jj funds/nns ''/'' ,/, the/at jurors/nns said/vbd ./.\\n``/`` Failure/nn to/to do/do this/dt will/md continue/vb to/to place/vb a/at disproportionate/jj burden/nn ''/'' on/in Fulton/np taxpayers/nns ./.\\n\\n\\n\\tThe/at jury/nn also/rb commented/vbd on/in the/at Fulton/np ordinary's/nn$ court/nn which/wdt has/hvz been/ben under/in fire/nn for/in its/pp$ practices/nns in/in the/at appointment/nn of/in appraisers/nns ,/, guardians/nns and/cc administrators/nns and/cc the/at awarding/nn of/in fees/nns and/cc compensation/nn ./.\\n\\n\\n\\nWards/nns-hl protected/vbn-hl \\nThe/at jury/nn said/vbd it/pps found/vbd the/at court/nn ``/`` has/hvz incorporated/vbn into/in its/pp$ operating/vbg procedures/nns the/at recommendations/nns ''/'' of/in two/cd previous/jj grand/jj juries/nns ,/, the/at Atlanta/np-tl Bar/nn-tl Association/nn-tl and/cc an/at interim/nn citizens/nns committee/nn ./.\\n\\n\\n\\t``/`` These/dts actions/nns should/md serve/vb to/to protect/vb in/in fact/nn and/cc in/in effect/nn the/at court's/nn$ wards/nns from/in undue/jj costs/nns and/cc its/pp$ appointed/vbn and/cc elected/vbn servants/nns from/in unmeritorious/jj criticisms/nns ''/'' ,/, the/at jury/nn said/vbd ./.\\n\\n\\n\\tRegarding/in Atlanta's/np$ new/jj multi-million-dollar/jj airport/nn ,/, the/at jury/nn recommended/vbd ``/`` that/cs when/wrb the/at new/jj management/nn takes/vbz charge/nn Jan./np 1/cd the/at airport/nn be/be operated/vbn in/in a/at manner/nn that/wps will/md eliminate/vb political/jj influences/nns ''/'' ./.\\n\\n\\n\\tThe/at jury/nn did/dod not/* elaborate/vb ,/, but/cc it/pps added/vbd that/cs ``/`` there/ex should/md be/be periodic/jj surveillance/nn of/in the/at pricing/vbg practices/nns of/in the/at concessionaires/nns for/in the/at purpose/nn of/in keeping/vbg the/at prices/nns reasonable/jj ''/'' ./.\\n\\n\\n\\nAsk/vb-hl jail/nn-hl deputies/nns-hl \\nOn/in other/ap matters/nns ,/, the/at jury/nn recommended/vbd that/cs :/: (/( 1/cd )/) \\nFour/cd additional/jj deputies/nns be/be employed/vbn at/in the/at Fulton/np-tl County/nn-tl Jail/nn-tl and/cc ``/`` a/at doctor/nn ,/, medical/jj intern/nn or/cc extern/nn be/be employed/vbn for/in night/nn and/cc weekend/nn duty/nn at/in the/at jail/nn ''/'' ./.\\n(/( 2/cd )/) \\nFulton/np legislators/nns ``/`` work/vb with/in city/nn officials/nns to/to pass/vb enabling/vbg legislation/nn that/wps will/md permit/vb the/at establishment/nn of/in a/at fair/jj and/cc equitable/jj ''/'' pension/nn plan/nn for/in city/nn employes/nns ./.\\n\\n\\n\\tThe/at jury/nn praised/vbd the/at administration/nn and/cc operation/nn of/in the/at Atlanta/np-tl Police/nns-tl Department/nn-tl ,/, the/at Fulton/np-tl Tax/nn-tl Commissioner's/nn$-tl Office/nn-tl ,/, the/at Bellwood/np and/cc Alpharetta/np prison/nn farms/nns ,/, Grady/np-tl Hospital/nn-tl and/cc the/at Fulton/np-tl Health/nn-tl Department/nn-tl ./.\\n\\n\\n\\tMayor/nn-tl William/np B./np Hartsfield/np filed/vbd suit/nn for/in divorce/nn from/in his/pp$ wife/nn ,/, Pearl/np Williams/np Hartsfield/np ,/, in/in Fulton/np-tl Superior/jj-tl Court/nn-tl Friday/nr ./.\\nHis/pp$ petition/nn charged/vbd mental/jj cruelty/nn ./.\\n\\n\\n\\tThe/at couple/nn was/bedz married/vbn Aug./np 2/cd ,/, 1913/cd ./.\\nThey/ppss have/hv a/at son/nn ,/, William/np Berry/np Jr./np ,/, and/cc a/at daughter/nn ,/, Mrs./np J./np M./np Cheshire/np of/in Griffin/np ./.\\n\\n\\n\\tAttorneys/nns for/in the/at mayor/nn said/vbd that/cs an/at amicable/jj property/nn settlement/nn has/hvz been/ben agreed/vbn upon/rb ./.\\n\\n\\n\\tThe/at petition/nn listed/vbd the/at mayor's/nn$ occupation/nn as/cs ``/`` attorney/nn ''/'' and/cc his/pp$ age/nn as/cs 71/cd ./.\\nIt/pps listed/vbd his/pp$ wife's/nn$ age/nn as/cs 74/cd and/cc place/nn of/in birth/nn as/cs Opelika/np ,/, Ala./np ./.\\n\\n\\n\\tThe/at petition/nn said/vbd that/cs the/at couple/nn has/hvz not/* lived/vbn together/rb as/cs man/nn and/cc wife/nn for/in more/ap than/in a/at year/nn ./.\\n\\n\\n\\tThe/at Hartsfield/np home/nr is/bez at/in 637/cd E./np Pelham/np Rd./nn-tl Aj/nn ./.\\n\\n\\n\\tHenry/np L./np Bowden/np was/bedz listed/vbn on/in the/at petition/nn as/cs the/at mayor's/nn$ attorney/nn ./.\\n\\n\\n\\tHartsfield/np has/hvz been/ben mayor/nn of/in Atlanta/np ,/, with/in exception/nn of/in one/cd brief/jj interlude/nn ,/, since/in 1937/cd ./.\\nHis/pp$ political/jj career/nn goes/vbz back/rb to/in his/pp$ election/nn to/in city/nn council/nn in/in 1923/cd ./.\\n\\n\\n\\tThe/at mayor's/nn$ present/jj term/nn of/in office/nn expires/vbz Jan./np 1/cd ./.\\nHe/pps will/md be/be succeeded/vbn by/in Ivan/np Allen/np Jr./np ,/, who/wps became/vbd a/at candidate/nn in/in the/at Sept./np 13/cd primary/nn after/cs Mayor/nn-tl Hartsfield/np announced/vbd that/cs he/pps would/md not/* run/vb for/in reelection/nn ./.\\n\\n\\n\\tGeorgia/np Republicans/nps are/ber getting/vbg strong/jj encouragement/nn to/to enter/vb a/at candidate/nn in/in the/at 1962/cd governor's/nn$ race/nn ,/, a/at top/jjs official/nn said/vbd Wednesday/nr ./.\\n\\n\\n\\tRobert/np Snodgrass/np ,/, state/nn GOP/nn chairman/nn ,/, said/vbd a/at meeting/nn held/vbn Tuesday/nr night/nn in/in Blue/jj-tl Ridge/nn-tl brought/vbd enthusiastic/jj responses/nns from/in the/at audience/nn ./.\\n\\n\\n\\tState/nn-tl Party/nn-tl Chairman/nn-tl James/np W./np Dorsey/np added/vbd that/cs enthusiasm/nn was/bedz picking/vbg up/rp for/in a/at state/nn rally/nn to/to be/be held/vbn Sept./np 8/cd in/in Savannah/np at/in which/wdt newly/rb elected/vbn Texas/np Sen./nn-tl John/np Tower/np will/md be/be the/at featured/vbn speaker/nn ./.\\n\\n\\n\\tIn/in the/at Blue/jj-tl Ridge/nn-tl meeting/nn ,/, the/at audience/nn was/bedz warned/vbn that/cs entering/vbg a/at candidate/nn for/in governor/nn would/md force/vb it/ppo to/to take/vb petitions/nns out/rp into/in voting/vbg precincts/nns to/to obtain/vb the/at signatures/nns of/in registere\""
            ]
          },
          "metadata": {},
          "execution_count": 161
        }
      ]
    },
    {
      "cell_type": "markdown",
      "metadata": {
        "id": "vUOCSKXAtYHn"
      },
      "source": [
        ""
      ]
    },
    {
      "cell_type": "code",
      "metadata": {
        "colab": {
          "base_uri": "https://localhost:8080/"
        },
        "id": "yBlbEFzXr5lY",
        "outputId": "57d55395-0807-4bc2-9370-c12174071c0c"
      },
      "source": [
        "brown.sents()"
      ],
      "execution_count": null,
      "outputs": [
        {
          "output_type": "execute_result",
          "data": {
            "text/plain": [
              "[['The', 'Fulton', 'County', 'Grand', 'Jury', 'said', 'Friday', 'an', 'investigation', 'of', \"Atlanta's\", 'recent', 'primary', 'election', 'produced', '``', 'no', 'evidence', \"''\", 'that', 'any', 'irregularities', 'took', 'place', '.'], ['The', 'jury', 'further', 'said', 'in', 'term-end', 'presentments', 'that', 'the', 'City', 'Executive', 'Committee', ',', 'which', 'had', 'over-all', 'charge', 'of', 'the', 'election', ',', '``', 'deserves', 'the', 'praise', 'and', 'thanks', 'of', 'the', 'City', 'of', 'Atlanta', \"''\", 'for', 'the', 'manner', 'in', 'which', 'the', 'election', 'was', 'conducted', '.'], ...]"
            ]
          },
          "metadata": {},
          "execution_count": 162
        }
      ]
    },
    {
      "cell_type": "code",
      "metadata": {
        "colab": {
          "base_uri": "https://localhost:8080/"
        },
        "id": "QajAil1ivU7Z",
        "outputId": "ed8bf7f7-5e48-437a-ea43-6cf8a94e9ebb"
      },
      "source": [
        "for sent in brown.sents()[0:10]:\n",
        "    print(\" \".join(sent))"
      ],
      "execution_count": null,
      "outputs": [
        {
          "output_type": "stream",
          "name": "stdout",
          "text": [
            "The Fulton County Grand Jury said Friday an investigation of Atlanta's recent primary election produced `` no evidence '' that any irregularities took place .\n",
            "The jury further said in term-end presentments that the City Executive Committee , which had over-all charge of the election , `` deserves the praise and thanks of the City of Atlanta '' for the manner in which the election was conducted .\n",
            "The September-October term jury had been charged by Fulton Superior Court Judge Durwood Pye to investigate reports of possible `` irregularities '' in the hard-fought primary which was won by Mayor-nominate Ivan Allen Jr. .\n",
            "`` Only a relative handful of such reports was received '' , the jury said , `` considering the widespread interest in the election , the number of voters and the size of this city '' .\n",
            "The jury said it did find that many of Georgia's registration and election laws `` are outmoded or inadequate and often ambiguous '' .\n",
            "It recommended that Fulton legislators act `` to have these laws studied and revised to the end of modernizing and improving them '' .\n",
            "The grand jury commented on a number of other topics , among them the Atlanta and Fulton County purchasing departments which it said `` are well operated and follow generally accepted practices which inure to the best interest of both governments '' .\n",
            "Merger proposed\n",
            "However , the jury said it believes `` these two offices should be combined to achieve greater efficiency and reduce the cost of administration '' .\n",
            "The City Purchasing Department , the jury said , `` is lacking in experienced clerical personnel as a result of city personnel policies '' .\n"
          ]
        }
      ]
    },
    {
      "cell_type": "code",
      "metadata": {
        "colab": {
          "base_uri": "https://localhost:8080/"
        },
        "id": "PZpyYKJduZWV",
        "outputId": "d9fdace1-4834-48c9-e29c-a9eda94f6373"
      },
      "source": [
        "len(brown.sents())"
      ],
      "execution_count": null,
      "outputs": [
        {
          "output_type": "execute_result",
          "data": {
            "text/plain": [
              "57340"
            ]
          },
          "metadata": {},
          "execution_count": 163
        }
      ]
    },
    {
      "cell_type": "code",
      "metadata": {
        "id": "6qIOesz_ukst"
      },
      "source": [
        "import numpy as np"
      ],
      "execution_count": null,
      "outputs": []
    },
    {
      "cell_type": "code",
      "metadata": {
        "id": "DFPBN9W3uvVd"
      },
      "source": [
        "rand_sent_temp = brown.sents()[np.random.randint(100)]"
      ],
      "execution_count": null,
      "outputs": []
    },
    {
      "cell_type": "code",
      "metadata": {
        "colab": {
          "base_uri": "https://localhost:8080/"
        },
        "id": "mq4rKNj6u2IQ",
        "outputId": "ba723c1b-3acd-402c-a1ce-120bc77a1fad"
      },
      "source": [
        "rand_sent_temp"
      ],
      "execution_count": null,
      "outputs": [
        {
          "output_type": "execute_result",
          "data": {
            "text/plain": [
              "['When',\n",
              " 'the',\n",
              " 'gubernatorial',\n",
              " 'campaign',\n",
              " 'starts',\n",
              " ',',\n",
              " 'Caldwell',\n",
              " 'is',\n",
              " 'expected',\n",
              " 'to',\n",
              " 'become',\n",
              " 'a',\n",
              " 'campaign',\n",
              " 'coordinator',\n",
              " 'for',\n",
              " 'Byrd',\n",
              " '.']"
            ]
          },
          "metadata": {},
          "execution_count": 182
        }
      ]
    },
    {
      "cell_type": "code",
      "metadata": {
        "id": "HU82YPl4vsk3"
      },
      "source": [
        "tagged_random_sent = [(i,'VB') for i in rand_sent_temp]"
      ],
      "execution_count": null,
      "outputs": []
    },
    {
      "cell_type": "code",
      "metadata": {
        "colab": {
          "base_uri": "https://localhost:8080/"
        },
        "id": "hZcSfsO_vtSG",
        "outputId": "d4d46a31-e9f3-42ea-a775-fd5785717ca3"
      },
      "source": [
        "tagged_random_sent"
      ],
      "execution_count": null,
      "outputs": [
        {
          "output_type": "execute_result",
          "data": {
            "text/plain": [
              "[('When', 'VB'),\n",
              " ('the', 'VB'),\n",
              " ('gubernatorial', 'VB'),\n",
              " ('campaign', 'VB'),\n",
              " ('starts', 'VB'),\n",
              " (',', 'VB'),\n",
              " ('Caldwell', 'VB'),\n",
              " ('is', 'VB'),\n",
              " ('expected', 'VB'),\n",
              " ('to', 'VB'),\n",
              " ('become', 'VB'),\n",
              " ('a', 'VB'),\n",
              " ('campaign', 'VB'),\n",
              " ('coordinator', 'VB'),\n",
              " ('for', 'VB'),\n",
              " ('Byrd', 'VB'),\n",
              " ('.', 'VB')]"
            ]
          },
          "metadata": {},
          "execution_count": 184
        }
      ]
    },
    {
      "cell_type": "code",
      "metadata": {
        "colab": {
          "base_uri": "https://localhost:8080/"
        },
        "id": "weFcLiMUwNIu",
        "outputId": "02a3972c-09e6-41b1-8c4c-cb340d6d7d9e"
      },
      "source": [
        "print(\" \".join(rand_sent_temp))"
      ],
      "execution_count": null,
      "outputs": [
        {
          "output_type": "stream",
          "name": "stdout",
          "text": [
            "When the gubernatorial campaign starts , Caldwell is expected to become a campaign coordinator for Byrd .\n"
          ]
        }
      ]
    },
    {
      "cell_type": "code",
      "metadata": {
        "id": "OlVVk5sxwpP4"
      },
      "source": [
        "rm -r -f /content/brown*"
      ],
      "execution_count": null,
      "outputs": []
    },
    {
      "cell_type": "code",
      "metadata": {
        "colab": {
          "base_uri": "https://localhost:8080/",
          "height": 129
        },
        "id": "7yJ4UO3PyHD0",
        "outputId": "a7b2816b-90ed-48d9-fd97-c0c776953d4a"
      },
      "source": [
        "RM -R -F /root/nltk_data*"
      ],
      "execution_count": null,
      "outputs": [
        {
          "output_type": "error",
          "ename": "SyntaxError",
          "evalue": "ignored",
          "traceback": [
            "\u001b[0;36m  File \u001b[0;32m\"<ipython-input-195-2757248f1380>\"\u001b[0;36m, line \u001b[0;32m1\u001b[0m\n\u001b[0;31m    RM -R -F /root/nltk_data*\u001b[0m\n\u001b[0m                             ^\u001b[0m\n\u001b[0;31mSyntaxError\u001b[0m\u001b[0;31m:\u001b[0m invalid syntax\n"
          ]
        }
      ]
    },
    {
      "cell_type": "code",
      "metadata": {
        "id": "vmQ2xJfOzBE5"
      },
      "source": [
        "rm -r -f /root/nltk_data*"
      ],
      "execution_count": null,
      "outputs": []
    },
    {
      "cell_type": "code",
      "metadata": {
        "id": "FeYp2yDQzFDO"
      },
      "source": [
        ""
      ],
      "execution_count": null,
      "outputs": []
    }
  ]
}